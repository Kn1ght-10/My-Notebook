{
 "cells": [
  {
   "cell_type": "markdown",
   "id": "cdc29e89-e4d3-4656-af62-022ba2b24db2",
   "metadata": {},
   "source": [
    "<h1>My Jupyter Notebook on IBM Watson Studio</h1>"
   ]
  },
  {
   "cell_type": "markdown",
   "id": "30b29f71-6f80-4c0c-855d-6d4fad4b37f4",
   "metadata": {},
   "source": [
    "My name is **Pranav Tiwari**. I am currently a student pursuing Data Science."
   ]
  },
  {
   "cell_type": "markdown",
   "id": "14ebcbe3-5e2a-4ed1-9ac5-743a4d17f0f4",
   "metadata": {},
   "source": [
    "*I am interested in Data Science because I like Mathematics quite a lot.*"
   ]
  },
  {
   "cell_type": "markdown",
   "id": "39573491-b017-4829-b60a-d70ff512b276",
   "metadata": {},
   "source": [
    "<h3>My code will print Data Science</h3>"
   ]
  },
  {
   "cell_type": "code",
   "execution_count": 1,
   "id": "84cc9a87-60b0-48ba-98e0-75f95e0e4b71",
   "metadata": {},
   "outputs": [
    {
     "name": "stdout",
     "output_type": "stream",
     "text": [
      "Data Science\n"
     ]
    }
   ],
   "source": [
    "print(\"Data Science\")"
   ]
  },
  {
   "cell_type": "markdown",
   "id": "6a6d6c5b-7d6f-4c7b-babf-e9805fd275f3",
   "metadata": {},
   "source": [
    "* 3 programming languages are-\n",
    "  * Java\n",
    "  * C++\n",
    "  * Python\n",
    "1. AI contains-\n",
    "   1. Machine Learning\n",
    "   2. Deep Learning\n",
    "   3. ~Python~"
   ]
  },
  {
   "cell_type": "markdown",
   "id": "24f8dc35-6036-4dda-847e-6b4756b79cb3",
   "metadata": {},
   "source": [
    "<blockquote>Thank You</blockquote>"
   ]
  },
  {
   "cell_type": "code",
   "execution_count": null,
   "id": "2092e183-479b-43dd-a448-416a0dbdfe24",
   "metadata": {},
   "outputs": [],
   "source": []
  }
 ],
 "metadata": {
  "kernelspec": {
   "display_name": "Python",
   "language": "python",
   "name": "conda-env-python-py"
  },
  "language_info": {
   "codemirror_mode": {
    "name": "ipython",
    "version": 3
   },
   "file_extension": ".py",
   "mimetype": "text/x-python",
   "name": "python",
   "nbconvert_exporter": "python",
   "pygments_lexer": "ipython3",
   "version": "3.7.12"
  }
 },
 "nbformat": 4,
 "nbformat_minor": 5
}
